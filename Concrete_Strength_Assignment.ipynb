{
  "nbformat": 4,
  "nbformat_minor": 0,
  "metadata": {
    "kernelspec": {
      "display_name": "Python 3",
      "language": "python",
      "name": "python3"
    },
    "language_info": {
      "codemirror_mode": {
        "name": "ipython",
        "version": 3
      },
      "file_extension": ".py",
      "mimetype": "text/x-python",
      "name": "python",
      "nbconvert_exporter": "python",
      "pygments_lexer": "ipython3",
      "version": "3.7.6"
    },
    "colab": {
      "name": "Concrete Strength Assignment.ipynb",
      "provenance": [],
      "toc_visible": true
    },
    "accelerator": "GPU"
  },
  "cells": [
    {
      "cell_type": "markdown",
      "metadata": {
        "id": "MUlO20brP1lw"
      },
      "source": [
        "# Assignment: Compresive Strength Concrete Problem\n",
        "\n",
        "\n",
        "### Abstract: \n",
        "\n",
        "Concrete is the most important material in civil engineering. The concrete compressive strength (concrete strength to bear the load) is a highly nonlinear function of age and ingredients.  <br><br>\n",
        "\n",
        "<table border=\"1\"  cellpadding=\"6\" bordercolor=\"red\">\n",
        "\t<tbody>\n",
        "        <tr>\n",
        "\t\t<td bgcolor=\"#DDEEFF\"><p class=\"normal\"><b>Data Set Characteristics:&nbsp;&nbsp;</b></p></td>\n",
        "\t\t<td><p class=\"normal\">Multivariate</p></td>\n",
        "\t\t<td bgcolor=\"#DDEEFF\"><p class=\"normal\"><b>Number of Instances:</b></p></td>\n",
        "\t\t<td><p class=\"normal\">1030</p></td>\n",
        "\t\t<td bgcolor=\"#DDEEFF\"><p class=\"normal\"><b>Area:</b></p></td>\n",
        "\t\t<td><p class=\"normal\">Physical</p></td>\n",
        "        </tr>\n",
        "     </tbody>\n",
        "    </table>\n",
        "<table border=\"1\" cellpadding=\"6\">\n",
        "    <tbody>\n",
        "        <tr>\n",
        "            <td bgcolor=\"#DDEEFF\"><p class=\"normal\"><b>Attribute Characteristics:</b></p></td>\n",
        "            <td><p class=\"normal\">Real</p></td>\n",
        "            <td bgcolor=\"#DDEEFF\"><p class=\"normal\"><b>Number of Attributes:</b></p></td>\n",
        "            <td><p class=\"normal\">9</p></td>\n",
        "            <td bgcolor=\"#DDEEFF\"><p class=\"normal\"><b>Date Donated</b></p></td>\n",
        "            <td><p class=\"normal\">2007-08-03</p></td>\n",
        "        </tr>\n",
        "     </tbody>\n",
        "    </table>\n",
        "<table border=\"1\" cellpadding=\"6\">\t\n",
        "    <tbody>\n",
        "    <tr>\n",
        "\t\t<td bgcolor=\"#DDEEFF\"><p class=\"normal\"><b>Associated Tasks:</b></p></td>\n",
        "\t\t<td><p class=\"normal\">Regression</p></td>\n",
        "\t\t<td bgcolor=\"#DDEEFF\"><p class=\"normal\"><b>Missing Values?</b></p></td>\n",
        "\t\t<td><p class=\"normal\">N/A</p></td>\n",
        "\t\t<td bgcolor=\"#DDEEFF\"><p class=\"normal\"><b>Number of Web Hits:</b></p></td>\n",
        "\t\t<td><p class=\"normal\">231464</p></td>\n",
        "\t</tr>\n",
        "    </tbody>\n",
        "    </table>"
      ]
    },
    {
      "cell_type": "markdown",
      "metadata": {
        "id": "XLWQz_d9P1mg"
      },
      "source": [
        "###  Description:\n",
        "| Features Name | Data Type | Measurement | Description |\n",
        "| -- | -- | -- | -- |\n",
        "Cement (component 1) | quantitative | kg in a m3 mixture | Input Variable\n",
        "Blast Furnace Slag (component 2) | quantitative | kg in a m3 mixture | Input Variable\n",
        "Fly Ash (component 3) | quantitative | kg in a m3 mixture | Input Variable\n",
        "Water (component 4) | quantitative | kg in a m3 mixture | Input Variable\n",
        "Superplasticizer (component 5) | quantitative | kg in a m3 mixture | Input Variable\n",
        "Coarse Aggregate (component 6) | quantitative | kg in a m3 mixture | Input Variable\n",
        "Fine Aggregate (component 7) | quantitative | kg in a m3 mixture | Input Variable\n",
        "Age | quantitative | Day (1~365) | Input Variable\n",
        "Concrete compressive strength | quantitative | MPa | Output Variable\n",
        "\n",
        "### WORKFLOW :\n",
        "- Load Data\n",
        "- Check Missing Values ( If Exist ; Fill each record with mean of its feature )\n",
        "- Standardized the Input Variables. **Hint**: Centeralized the data\n",
        "- Split into 50% Training(Samples,Labels) , 30% Test(Samples,Labels) and 20% Validation Data(Samples,Labels).\n",
        "- Model : input Layer (No. of features ), 3 hidden layers including 10,8,6 unit & Output Layer with activation function relu/tanh (check by experiment).\n",
        "- Compilation Step (Note : Its a Regression problem , select loss , metrics according to it)\n",
        "- Train the Model with Epochs (100) and validate it\n",
        "- If the model gets overfit tune your model by changing the units , No. of layers , activation function , epochs , add dropout layer or add Regularizer according to the need .\n",
        "- Evaluation Step\n",
        "- Prediction\n"
      ]
    },
    {
      "cell_type": "code",
      "metadata": {
        "colab": {
          "base_uri": "https://localhost:8080/"
        },
        "id": "2TynJm5DU_XS",
        "outputId": "365738ae-4442-45e7-bf39-b05f6491fb0b"
      },
      "source": [
        "from google.colab import drive\n",
        "drive.mount('/content/drive')"
      ],
      "execution_count": 3,
      "outputs": [
        {
          "output_type": "stream",
          "text": [
            "Mounted at /content/drive\n"
          ],
          "name": "stdout"
        }
      ]
    },
    {
      "cell_type": "markdown",
      "metadata": {
        "id": "7JQbFWW-P1mj"
      },
      "source": [
        "# Load Data:\n",
        "[Click Here to Download DataSet](https://github.com/ramsha275/ML_Datasets/blob/main/compresive_strength_concrete.csv)"
      ]
    },
    {
      "cell_type": "code",
      "metadata": {
        "id": "N9K3ikS0P1mq"
      },
      "source": [
        "import numpy as np \n",
        "import pandas as pd\n",
        "import tensorflow as tf \n",
        "import seaborn as sns\n"
      ],
      "execution_count": 4,
      "outputs": []
    },
    {
      "cell_type": "code",
      "metadata": {
        "id": "L6k2XllDWkD7"
      },
      "source": [
        "df = pd.read_csv('/content/drive/MyDrive/ML_Datasets-main/compresive_strength_concrete.csv')"
      ],
      "execution_count": 95,
      "outputs": []
    },
    {
      "cell_type": "code",
      "metadata": {
        "colab": {
          "base_uri": "https://localhost:8080/",
          "height": 476
        },
        "id": "fza9ZagZWt9N",
        "outputId": "bd557c4f-f8d3-4af8-c0a5-f80540963153"
      },
      "source": [
        "df"
      ],
      "execution_count": 96,
      "outputs": [
        {
          "output_type": "execute_result",
          "data": {
            "text/html": [
              "<div>\n",
              "<style scoped>\n",
              "    .dataframe tbody tr th:only-of-type {\n",
              "        vertical-align: middle;\n",
              "    }\n",
              "\n",
              "    .dataframe tbody tr th {\n",
              "        vertical-align: top;\n",
              "    }\n",
              "\n",
              "    .dataframe thead th {\n",
              "        text-align: right;\n",
              "    }\n",
              "</style>\n",
              "<table border=\"1\" class=\"dataframe\">\n",
              "  <thead>\n",
              "    <tr style=\"text-align: right;\">\n",
              "      <th></th>\n",
              "      <th>Cement (component 1)(kg in a m^3 mixture)</th>\n",
              "      <th>Blast Furnace Slag (component 2)(kg in a m^3 mixture)</th>\n",
              "      <th>Fly Ash (component 3)(kg in a m^3 mixture)</th>\n",
              "      <th>Water  (component 4)(kg in a m^3 mixture)</th>\n",
              "      <th>Superplasticizer (component 5)(kg in a m^3 mixture)</th>\n",
              "      <th>Coarse Aggregate  (component 6)(kg in a m^3 mixture)</th>\n",
              "      <th>Fine Aggregate (component 7)(kg in a m^3 mixture)</th>\n",
              "      <th>Age (day)</th>\n",
              "      <th>Concrete compressive strength(MPa, megapascals)</th>\n",
              "    </tr>\n",
              "  </thead>\n",
              "  <tbody>\n",
              "    <tr>\n",
              "      <th>0</th>\n",
              "      <td>540.0</td>\n",
              "      <td>0.0</td>\n",
              "      <td>0.0</td>\n",
              "      <td>162.0</td>\n",
              "      <td>2.5</td>\n",
              "      <td>1040.0</td>\n",
              "      <td>676.0</td>\n",
              "      <td>28</td>\n",
              "      <td>79.99</td>\n",
              "    </tr>\n",
              "    <tr>\n",
              "      <th>1</th>\n",
              "      <td>540.0</td>\n",
              "      <td>0.0</td>\n",
              "      <td>0.0</td>\n",
              "      <td>162.0</td>\n",
              "      <td>2.5</td>\n",
              "      <td>1055.0</td>\n",
              "      <td>676.0</td>\n",
              "      <td>28</td>\n",
              "      <td>61.89</td>\n",
              "    </tr>\n",
              "    <tr>\n",
              "      <th>2</th>\n",
              "      <td>332.5</td>\n",
              "      <td>142.5</td>\n",
              "      <td>0.0</td>\n",
              "      <td>228.0</td>\n",
              "      <td>0.0</td>\n",
              "      <td>932.0</td>\n",
              "      <td>594.0</td>\n",
              "      <td>270</td>\n",
              "      <td>40.27</td>\n",
              "    </tr>\n",
              "    <tr>\n",
              "      <th>3</th>\n",
              "      <td>332.5</td>\n",
              "      <td>142.5</td>\n",
              "      <td>0.0</td>\n",
              "      <td>228.0</td>\n",
              "      <td>0.0</td>\n",
              "      <td>932.0</td>\n",
              "      <td>594.0</td>\n",
              "      <td>365</td>\n",
              "      <td>41.05</td>\n",
              "    </tr>\n",
              "    <tr>\n",
              "      <th>4</th>\n",
              "      <td>198.6</td>\n",
              "      <td>132.4</td>\n",
              "      <td>0.0</td>\n",
              "      <td>192.0</td>\n",
              "      <td>0.0</td>\n",
              "      <td>978.4</td>\n",
              "      <td>825.5</td>\n",
              "      <td>360</td>\n",
              "      <td>44.30</td>\n",
              "    </tr>\n",
              "    <tr>\n",
              "      <th>...</th>\n",
              "      <td>...</td>\n",
              "      <td>...</td>\n",
              "      <td>...</td>\n",
              "      <td>...</td>\n",
              "      <td>...</td>\n",
              "      <td>...</td>\n",
              "      <td>...</td>\n",
              "      <td>...</td>\n",
              "      <td>...</td>\n",
              "    </tr>\n",
              "    <tr>\n",
              "      <th>1025</th>\n",
              "      <td>276.4</td>\n",
              "      <td>116.0</td>\n",
              "      <td>90.3</td>\n",
              "      <td>179.6</td>\n",
              "      <td>8.9</td>\n",
              "      <td>870.1</td>\n",
              "      <td>768.3</td>\n",
              "      <td>28</td>\n",
              "      <td>44.28</td>\n",
              "    </tr>\n",
              "    <tr>\n",
              "      <th>1026</th>\n",
              "      <td>322.2</td>\n",
              "      <td>0.0</td>\n",
              "      <td>115.6</td>\n",
              "      <td>196.0</td>\n",
              "      <td>10.4</td>\n",
              "      <td>817.9</td>\n",
              "      <td>813.4</td>\n",
              "      <td>28</td>\n",
              "      <td>31.18</td>\n",
              "    </tr>\n",
              "    <tr>\n",
              "      <th>1027</th>\n",
              "      <td>148.5</td>\n",
              "      <td>139.4</td>\n",
              "      <td>108.6</td>\n",
              "      <td>192.7</td>\n",
              "      <td>6.1</td>\n",
              "      <td>892.4</td>\n",
              "      <td>780.0</td>\n",
              "      <td>28</td>\n",
              "      <td>23.70</td>\n",
              "    </tr>\n",
              "    <tr>\n",
              "      <th>1028</th>\n",
              "      <td>159.1</td>\n",
              "      <td>186.7</td>\n",
              "      <td>0.0</td>\n",
              "      <td>175.6</td>\n",
              "      <td>11.3</td>\n",
              "      <td>989.6</td>\n",
              "      <td>788.9</td>\n",
              "      <td>28</td>\n",
              "      <td>32.77</td>\n",
              "    </tr>\n",
              "    <tr>\n",
              "      <th>1029</th>\n",
              "      <td>260.9</td>\n",
              "      <td>100.5</td>\n",
              "      <td>78.3</td>\n",
              "      <td>200.6</td>\n",
              "      <td>8.6</td>\n",
              "      <td>864.5</td>\n",
              "      <td>761.5</td>\n",
              "      <td>28</td>\n",
              "      <td>32.40</td>\n",
              "    </tr>\n",
              "  </tbody>\n",
              "</table>\n",
              "<p>1030 rows × 9 columns</p>\n",
              "</div>"
            ],
            "text/plain": [
              "      Cement (component 1)(kg in a m^3 mixture)  ...  Concrete compressive strength(MPa, megapascals) \n",
              "0                                         540.0  ...                                             79.99\n",
              "1                                         540.0  ...                                             61.89\n",
              "2                                         332.5  ...                                             40.27\n",
              "3                                         332.5  ...                                             41.05\n",
              "4                                         198.6  ...                                             44.30\n",
              "...                                         ...  ...                                               ...\n",
              "1025                                      276.4  ...                                             44.28\n",
              "1026                                      322.2  ...                                             31.18\n",
              "1027                                      148.5  ...                                             23.70\n",
              "1028                                      159.1  ...                                             32.77\n",
              "1029                                      260.9  ...                                             32.40\n",
              "\n",
              "[1030 rows x 9 columns]"
            ]
          },
          "metadata": {
            "tags": []
          },
          "execution_count": 96
        }
      ]
    },
    {
      "cell_type": "code",
      "metadata": {
        "colab": {
          "base_uri": "https://localhost:8080/"
        },
        "id": "en9Z4T-DWvc0",
        "outputId": "8a0ca7f3-d22e-4c36-f5ee-080669590d1a"
      },
      "source": [
        "df.isnull().any()"
      ],
      "execution_count": 97,
      "outputs": [
        {
          "output_type": "execute_result",
          "data": {
            "text/plain": [
              "Cement (component 1)(kg in a m^3 mixture)                False\n",
              "Blast Furnace Slag (component 2)(kg in a m^3 mixture)    False\n",
              "Fly Ash (component 3)(kg in a m^3 mixture)               False\n",
              "Water  (component 4)(kg in a m^3 mixture)                False\n",
              "Superplasticizer (component 5)(kg in a m^3 mixture)      False\n",
              "Coarse Aggregate  (component 6)(kg in a m^3 mixture)     False\n",
              "Fine Aggregate (component 7)(kg in a m^3 mixture)        False\n",
              "Age (day)                                                False\n",
              "Concrete compressive strength(MPa, megapascals)          False\n",
              "dtype: bool"
            ]
          },
          "metadata": {
            "tags": []
          },
          "execution_count": 97
        }
      ]
    },
    {
      "cell_type": "code",
      "metadata": {
        "colab": {
          "base_uri": "https://localhost:8080/",
          "height": 357
        },
        "id": "8OgOyyVMZuw2",
        "outputId": "2cd6d73f-2bf6-4424-de78-a21c1e7cb517"
      },
      "source": [
        "df.describe()"
      ],
      "execution_count": 98,
      "outputs": [
        {
          "output_type": "execute_result",
          "data": {
            "text/html": [
              "<div>\n",
              "<style scoped>\n",
              "    .dataframe tbody tr th:only-of-type {\n",
              "        vertical-align: middle;\n",
              "    }\n",
              "\n",
              "    .dataframe tbody tr th {\n",
              "        vertical-align: top;\n",
              "    }\n",
              "\n",
              "    .dataframe thead th {\n",
              "        text-align: right;\n",
              "    }\n",
              "</style>\n",
              "<table border=\"1\" class=\"dataframe\">\n",
              "  <thead>\n",
              "    <tr style=\"text-align: right;\">\n",
              "      <th></th>\n",
              "      <th>Cement (component 1)(kg in a m^3 mixture)</th>\n",
              "      <th>Blast Furnace Slag (component 2)(kg in a m^3 mixture)</th>\n",
              "      <th>Fly Ash (component 3)(kg in a m^3 mixture)</th>\n",
              "      <th>Water  (component 4)(kg in a m^3 mixture)</th>\n",
              "      <th>Superplasticizer (component 5)(kg in a m^3 mixture)</th>\n",
              "      <th>Coarse Aggregate  (component 6)(kg in a m^3 mixture)</th>\n",
              "      <th>Fine Aggregate (component 7)(kg in a m^3 mixture)</th>\n",
              "      <th>Age (day)</th>\n",
              "      <th>Concrete compressive strength(MPa, megapascals)</th>\n",
              "    </tr>\n",
              "  </thead>\n",
              "  <tbody>\n",
              "    <tr>\n",
              "      <th>count</th>\n",
              "      <td>1030.000000</td>\n",
              "      <td>1030.000000</td>\n",
              "      <td>1030.000000</td>\n",
              "      <td>1030.000000</td>\n",
              "      <td>1030.000000</td>\n",
              "      <td>1030.000000</td>\n",
              "      <td>1030.000000</td>\n",
              "      <td>1030.000000</td>\n",
              "      <td>1030.000000</td>\n",
              "    </tr>\n",
              "    <tr>\n",
              "      <th>mean</th>\n",
              "      <td>281.167864</td>\n",
              "      <td>73.895825</td>\n",
              "      <td>54.188350</td>\n",
              "      <td>181.567282</td>\n",
              "      <td>6.204660</td>\n",
              "      <td>972.918932</td>\n",
              "      <td>773.580485</td>\n",
              "      <td>45.662136</td>\n",
              "      <td>35.817961</td>\n",
              "    </tr>\n",
              "    <tr>\n",
              "      <th>std</th>\n",
              "      <td>104.506364</td>\n",
              "      <td>86.279342</td>\n",
              "      <td>63.997004</td>\n",
              "      <td>21.354219</td>\n",
              "      <td>5.973841</td>\n",
              "      <td>77.753954</td>\n",
              "      <td>80.175980</td>\n",
              "      <td>63.169912</td>\n",
              "      <td>16.705742</td>\n",
              "    </tr>\n",
              "    <tr>\n",
              "      <th>min</th>\n",
              "      <td>102.000000</td>\n",
              "      <td>0.000000</td>\n",
              "      <td>0.000000</td>\n",
              "      <td>121.800000</td>\n",
              "      <td>0.000000</td>\n",
              "      <td>801.000000</td>\n",
              "      <td>594.000000</td>\n",
              "      <td>1.000000</td>\n",
              "      <td>2.330000</td>\n",
              "    </tr>\n",
              "    <tr>\n",
              "      <th>25%</th>\n",
              "      <td>192.375000</td>\n",
              "      <td>0.000000</td>\n",
              "      <td>0.000000</td>\n",
              "      <td>164.900000</td>\n",
              "      <td>0.000000</td>\n",
              "      <td>932.000000</td>\n",
              "      <td>730.950000</td>\n",
              "      <td>7.000000</td>\n",
              "      <td>23.710000</td>\n",
              "    </tr>\n",
              "    <tr>\n",
              "      <th>50%</th>\n",
              "      <td>272.900000</td>\n",
              "      <td>22.000000</td>\n",
              "      <td>0.000000</td>\n",
              "      <td>185.000000</td>\n",
              "      <td>6.400000</td>\n",
              "      <td>968.000000</td>\n",
              "      <td>779.500000</td>\n",
              "      <td>28.000000</td>\n",
              "      <td>34.445000</td>\n",
              "    </tr>\n",
              "    <tr>\n",
              "      <th>75%</th>\n",
              "      <td>350.000000</td>\n",
              "      <td>142.950000</td>\n",
              "      <td>118.300000</td>\n",
              "      <td>192.000000</td>\n",
              "      <td>10.200000</td>\n",
              "      <td>1029.400000</td>\n",
              "      <td>824.000000</td>\n",
              "      <td>56.000000</td>\n",
              "      <td>46.135000</td>\n",
              "    </tr>\n",
              "    <tr>\n",
              "      <th>max</th>\n",
              "      <td>540.000000</td>\n",
              "      <td>359.400000</td>\n",
              "      <td>200.100000</td>\n",
              "      <td>247.000000</td>\n",
              "      <td>32.200000</td>\n",
              "      <td>1145.000000</td>\n",
              "      <td>992.600000</td>\n",
              "      <td>365.000000</td>\n",
              "      <td>82.600000</td>\n",
              "    </tr>\n",
              "  </tbody>\n",
              "</table>\n",
              "</div>"
            ],
            "text/plain": [
              "       Cement (component 1)(kg in a m^3 mixture)  ...  Concrete compressive strength(MPa, megapascals) \n",
              "count                                1030.000000  ...                                       1030.000000\n",
              "mean                                  281.167864  ...                                         35.817961\n",
              "std                                   104.506364  ...                                         16.705742\n",
              "min                                   102.000000  ...                                          2.330000\n",
              "25%                                   192.375000  ...                                         23.710000\n",
              "50%                                   272.900000  ...                                         34.445000\n",
              "75%                                   350.000000  ...                                         46.135000\n",
              "max                                   540.000000  ...                                         82.600000\n",
              "\n",
              "[8 rows x 9 columns]"
            ]
          },
          "metadata": {
            "tags": []
          },
          "execution_count": 98
        }
      ]
    },
    {
      "cell_type": "code",
      "metadata": {
        "colab": {
          "base_uri": "https://localhost:8080/"
        },
        "id": "7GmBu60DZvEo",
        "outputId": "b65c7886-4571-4d3d-bb03-b154ccc089c2"
      },
      "source": [
        "df.info()"
      ],
      "execution_count": 99,
      "outputs": [
        {
          "output_type": "stream",
          "text": [
            "<class 'pandas.core.frame.DataFrame'>\n",
            "RangeIndex: 1030 entries, 0 to 1029\n",
            "Data columns (total 9 columns):\n",
            " #   Column                                                 Non-Null Count  Dtype  \n",
            "---  ------                                                 --------------  -----  \n",
            " 0   Cement (component 1)(kg in a m^3 mixture)              1030 non-null   float64\n",
            " 1   Blast Furnace Slag (component 2)(kg in a m^3 mixture)  1030 non-null   float64\n",
            " 2   Fly Ash (component 3)(kg in a m^3 mixture)             1030 non-null   float64\n",
            " 3   Water  (component 4)(kg in a m^3 mixture)              1030 non-null   float64\n",
            " 4   Superplasticizer (component 5)(kg in a m^3 mixture)    1030 non-null   float64\n",
            " 5   Coarse Aggregate  (component 6)(kg in a m^3 mixture)   1030 non-null   float64\n",
            " 6   Fine Aggregate (component 7)(kg in a m^3 mixture)      1030 non-null   float64\n",
            " 7   Age (day)                                              1030 non-null   int64  \n",
            " 8   Concrete compressive strength(MPa, megapascals)        1030 non-null   float64\n",
            "dtypes: float64(8), int64(1)\n",
            "memory usage: 72.5 KB\n"
          ],
          "name": "stdout"
        }
      ]
    },
    {
      "cell_type": "code",
      "metadata": {
        "colab": {
          "base_uri": "https://localhost:8080/"
        },
        "id": "eGPDrxcsb8dg",
        "outputId": "c6b7a4bc-d9c9-40b6-aa17-5a6418a7a4f7"
      },
      "source": [
        "df.keys()"
      ],
      "execution_count": 100,
      "outputs": [
        {
          "output_type": "execute_result",
          "data": {
            "text/plain": [
              "Index(['Cement (component 1)(kg in a m^3 mixture)',\n",
              "       'Blast Furnace Slag (component 2)(kg in a m^3 mixture)',\n",
              "       'Fly Ash (component 3)(kg in a m^3 mixture)',\n",
              "       'Water  (component 4)(kg in a m^3 mixture)',\n",
              "       'Superplasticizer (component 5)(kg in a m^3 mixture)',\n",
              "       'Coarse Aggregate  (component 6)(kg in a m^3 mixture)',\n",
              "       'Fine Aggregate (component 7)(kg in a m^3 mixture)', 'Age (day)',\n",
              "       'Concrete compressive strength(MPa, megapascals) '],\n",
              "      dtype='object')"
            ]
          },
          "metadata": {
            "tags": []
          },
          "execution_count": 100
        }
      ]
    },
    {
      "cell_type": "code",
      "metadata": {
        "id": "mrhgX71Bc7YL"
      },
      "source": [
        "# split dataframe into input and output\n",
        "X=df.iloc[:,:8]\n",
        "\n",
        "y=df.iloc[:,-1]"
      ],
      "execution_count": 101,
      "outputs": []
    },
    {
      "cell_type": "code",
      "metadata": {
        "colab": {
          "base_uri": "https://localhost:8080/"
        },
        "id": "mr5l0l7e0L4J",
        "outputId": "4cb8f2de-9ad9-406f-f45e-697fa3211348"
      },
      "source": [
        "y"
      ],
      "execution_count": 102,
      "outputs": [
        {
          "output_type": "execute_result",
          "data": {
            "text/plain": [
              "0       79.99\n",
              "1       61.89\n",
              "2       40.27\n",
              "3       41.05\n",
              "4       44.30\n",
              "        ...  \n",
              "1025    44.28\n",
              "1026    31.18\n",
              "1027    23.70\n",
              "1028    32.77\n",
              "1029    32.40\n",
              "Name: Concrete compressive strength(MPa, megapascals) , Length: 1030, dtype: float64"
            ]
          },
          "metadata": {
            "tags": []
          },
          "execution_count": 102
        }
      ]
    },
    {
      "cell_type": "code",
      "metadata": {
        "id": "4_EmPoa1YAmO"
      },
      "source": [
        "mean = X.mean(axis=0)\n",
        "X-= mean\n",
        "std = X.std()\n",
        "X/= std\n"
      ],
      "execution_count": 103,
      "outputs": []
    },
    {
      "cell_type": "code",
      "metadata": {
        "id": "cQ21m-Oq03Dn"
      },
      "source": [
        "y_mean=y.mean(axis=0)\n",
        "y_std=y.std(axis=0)\n",
        "y-=y_mean\n",
        "y/=y_std"
      ],
      "execution_count": 104,
      "outputs": []
    },
    {
      "cell_type": "code",
      "metadata": {
        "colab": {
          "base_uri": "https://localhost:8080/"
        },
        "id": "rpRBSjv_0IVX",
        "outputId": "c4d4787e-e83c-43b4-fd38-33e95ca1a5a9"
      },
      "source": [
        "y"
      ],
      "execution_count": 105,
      "outputs": [
        {
          "output_type": "execute_result",
          "data": {
            "text/plain": [
              "0       2.644123\n",
              "1       1.560663\n",
              "2       0.266498\n",
              "3       0.313188\n",
              "4       0.507732\n",
              "          ...   \n",
              "1025    0.506535\n",
              "1026   -0.277627\n",
              "1027   -0.725377\n",
              "1028   -0.182450\n",
              "1029   -0.204598\n",
              "Name: Concrete compressive strength(MPa, megapascals) , Length: 1030, dtype: float64"
            ]
          },
          "metadata": {
            "tags": []
          },
          "execution_count": 105
        }
      ]
    },
    {
      "cell_type": "code",
      "metadata": {
        "colab": {
          "base_uri": "https://localhost:8080/",
          "height": 463
        },
        "id": "vyofGN_Wc525",
        "outputId": "9cd699c5-9a7f-4367-b23d-803981a883d2"
      },
      "source": [
        "X.hist()"
      ],
      "execution_count": 106,
      "outputs": [
        {
          "output_type": "execute_result",
          "data": {
            "text/plain": [
              "array([[<matplotlib.axes._subplots.AxesSubplot object at 0x7fe297aa14d0>,\n",
              "        <matplotlib.axes._subplots.AxesSubplot object at 0x7fe297a441d0>,\n",
              "        <matplotlib.axes._subplots.AxesSubplot object at 0x7fe297a77650>],\n",
              "       [<matplotlib.axes._subplots.AxesSubplot object at 0x7fe298b1f710>,\n",
              "        <matplotlib.axes._subplots.AxesSubplot object at 0x7fe2979c54d0>,\n",
              "        <matplotlib.axes._subplots.AxesSubplot object at 0x7fe2979fba50>],\n",
              "       [<matplotlib.axes._subplots.AxesSubplot object at 0x7fe2979a7b10>,\n",
              "        <matplotlib.axes._subplots.AxesSubplot object at 0x7fe297972550>,\n",
              "        <matplotlib.axes._subplots.AxesSubplot object at 0x7fe297972590>]],\n",
              "      dtype=object)"
            ]
          },
          "metadata": {
            "tags": []
          },
          "execution_count": 106
        },
        {
          "output_type": "display_data",
          "data": {
            "image/png": "[encoded data removed]",
            "text/plain": [
              "<Figure size 432x288 with 9 Axes>"
            ]
          },
          "metadata": {
            "tags": [],
            "needs_background": "light"
          }
        }
      ]
    },
    {
      "cell_type": "code",
      "metadata": {
        "id": "iSWlNXm7fNSp"
      },
      "source": [
        "from sklearn.model_selection import train_test_split\n",
        "train_data, test_data, train_labels, test_labels=train_test_split(X, y, test_size=0.3, random_state=1)"
      ],
      "execution_count": 107,
      "outputs": []
    },
    {
      "cell_type": "code",
      "metadata": {
        "colab": {
          "base_uri": "https://localhost:8080/"
        },
        "id": "c-9CFIem2ARD",
        "outputId": "b686ceb1-2ada-4818-8640-513cf162ec48"
      },
      "source": [
        "train_labels\n",
        "test_labels"
      ],
      "execution_count": 108,
      "outputs": [
        {
          "output_type": "execute_result",
          "data": {
            "text/plain": [
              "339    -0.832526\n",
              "244    -0.951048\n",
              "882     0.037235\n",
              "567    -1.428129\n",
              "923     0.240758\n",
              "          ...   \n",
              "1018    0.086919\n",
              "1015    0.994391\n",
              "341     0.693297\n",
              "750     0.495161\n",
              "937     0.058785\n",
              "Name: Concrete compressive strength(MPa, megapascals) , Length: 309, dtype: float64"
            ]
          },
          "metadata": {
            "tags": []
          },
          "execution_count": 108
        }
      ]
    },
    {
      "cell_type": "code",
      "metadata": {
        "id": "ntCRBtW_s1S-"
      },
      "source": [
        "X_train= np.asarray(train_data).astype('float32')\n",
        "X_test= np.asarray(test_data).astype('float32')\n",
        "y_train= np.asarray(train_labels).astype('float32')\n",
        "y_test= np.asarray(test_labels).astype('float32')\n"
      ],
      "execution_count": 109,
      "outputs": []
    },
    {
      "cell_type": "code",
      "metadata": {
        "id": "zTgPFm0SfmUe"
      },
      "source": [
        "from keras import models\n",
        "from keras import layers\n",
        "model = models.Sequential()\n",
        "model.add(layers.Dense(8, activation='relu',input_shape=(X_train.shape[1],)))\n",
        "model.add(layers.Dense(6, activation='relu'))\n",
        "model.add(layers.Dense(1))\n",
        "model.compile(optimizer='rmsprop', loss='mse', metrics=['mae'])\n"
      ],
      "execution_count": 117,
      "outputs": []
    },
    {
      "cell_type": "code",
      "metadata": {
        "id": "vgb-u7LLgU8y"
      },
      "source": [
        "model.compile(optimizer='rmsprop', loss='mse', metrics=['mae'])"
      ],
      "execution_count": 118,
      "outputs": []
    },
    {
      "cell_type": "code",
      "metadata": {
        "colab": {
          "base_uri": "https://localhost:8080/"
        },
        "id": "bxfFsLMBxve9",
        "outputId": "b8701f21-b306-4073-c2ab-fb25c494afa5"
      },
      "source": [
        "model.summary()"
      ],
      "execution_count": 119,
      "outputs": [
        {
          "output_type": "stream",
          "text": [
            "Model: \"sequential_9\"\n",
            "_________________________________________________________________\n",
            "Layer (type)                 Output Shape              Param #   \n",
            "=================================================================\n",
            "dense_27 (Dense)             (None, 8)                 72        \n",
            "_________________________________________________________________\n",
            "dense_28 (Dense)             (None, 6)                 54        \n",
            "_________________________________________________________________\n",
            "dense_29 (Dense)             (None, 1)                 7         \n",
            "=================================================================\n",
            "Total params: 133\n",
            "Trainable params: 133\n",
            "Non-trainable params: 0\n",
            "_________________________________________________________________\n"
          ],
          "name": "stdout"
        }
      ]
    },
    {
      "cell_type": "code",
      "metadata": {
        "id": "2rs_09Lsjz9F"
      },
      "source": [
        "histroy=model.fit(X_train, y_train,epochs=10, batch_size=1, verbose=0, validation_split=0.2)"
      ],
      "execution_count": 120,
      "outputs": []
    },
    {
      "cell_type": "code",
      "metadata": {
        "colab": {
          "base_uri": "https://localhost:8080/"
        },
        "id": "pmvhcWetkq6q",
        "outputId": "41d8b368-37a6-4519-a203-8ae951a5a1e1"
      },
      "source": [
        "model.evaluate(X_test, y_test)"
      ],
      "execution_count": 121,
      "outputs": [
        {
          "output_type": "stream",
          "text": [
            "10/10 [==============================] - 0s 3ms/step - loss: 0.2839 - mae: 0.3993\n"
          ],
          "name": "stdout"
        },
        {
          "output_type": "execute_result",
          "data": {
            "text/plain": [
              "[0.28394943475723267, 0.39927786588668823]"
            ]
          },
          "metadata": {
            "tags": []
          },
          "execution_count": 121
        }
      ]
    },
    {
      "cell_type": "code",
      "metadata": {
        "id": "jJsJ__zI4Ixb"
      },
      "source": [
        "history=histroy"
      ],
      "execution_count": 123,
      "outputs": []
    },
    {
      "cell_type": "code",
      "metadata": {
        "colab": {
          "base_uri": "https://localhost:8080/",
          "height": 295
        },
        "id": "k7nmT87fzM5f",
        "outputId": "8358eb9d-45dd-492f-c21e-9c4dc3a5ac0e"
      },
      "source": [
        "import matplotlib.pyplot as plt\n",
        "loss = history.history['loss']\n",
        "val_loss = history.history['val_loss']\n",
        "epochs = range(1, len(loss) + 1)\n",
        "plt.plot(epochs, loss, 'bo', label='Training loss')\n",
        "plt.plot(epochs, val_loss, 'b', label='Validation loss')\n",
        "plt.title('Training and validation loss')\n",
        "plt.xlabel('Epochs')\n",
        "plt.ylabel('Loss')\n",
        "plt.legend()\n",
        "plt.show()"
      ],
      "execution_count": 124,
      "outputs": [
        {
          "output_type": "display_data",
          "data": {
            "image/png": "[encoded data removed]",
            "text/plain": [
              "<Figure size 432x288 with 1 Axes>"
            ]
          },
          "metadata": {
            "tags": [],
            "needs_background": "light"
          }
        }
      ]
    },
    {
      "cell_type": "code",
      "metadata": {
        "id": "mvPpF1Pk4C1o"
      },
      "source": [
        "pred=model.predict(X_test)"
      ],
      "execution_count": 126,
      "outputs": []
    },
    {
      "cell_type": "code",
      "metadata": {
        "colab": {
          "base_uri": "https://localhost:8080/"
        },
        "id": "yg4xvnbE4nMr",
        "outputId": "f96c895d-3624-4da7-af33-674a6e08bf63"
      },
      "source": [
        "pred"
      ],
      "execution_count": 127,
      "outputs": [
        {
          "output_type": "execute_result",
          "data": {
            "text/plain": [
              "array([[-4.41198856e-01],\n",
              "       [-1.12083459e+00],\n",
              "       [-7.53240943e-01],\n",
              "       [-1.58048415e+00],\n",
              "       [ 3.06120723e-01],\n",
              "       [ 1.47214234e+00],\n",
              "       [-7.07495332e-01],\n",
              "       [ 2.80280203e-01],\n",
              "       [-5.41782379e-03],\n",
              "       [-1.00839019e+00],\n",
              "       [ 8.07955742e-01],\n",
              "       [-1.38297987e+00],\n",
              "       [-2.68749267e-01],\n",
              "       [-4.53870505e-01],\n",
              "       [-1.66726482e+00],\n",
              "       [-9.73026514e-01],\n",
              "       [ 8.17123413e-01],\n",
              "       [ 1.23984575e+00],\n",
              "       [ 1.64509606e+00],\n",
              "       [-2.82957911e-01],\n",
              "       [-1.01743233e+00],\n",
              "       [ 5.81590652e-01],\n",
              "       [-1.19371068e+00],\n",
              "       [ 1.38464296e+00],\n",
              "       [ 1.47146213e+00],\n",
              "       [ 4.86581922e-02],\n",
              "       [-3.02138478e-01],\n",
              "       [-2.72530884e-01],\n",
              "       [ 2.14635402e-01],\n",
              "       [-1.10259020e+00],\n",
              "       [ 9.19492364e-01],\n",
              "       [ 8.05686712e-01],\n",
              "       [-8.92550707e-01],\n",
              "       [ 2.89962381e-01],\n",
              "       [ 9.19842839e-01],\n",
              "       [ 2.75662959e-01],\n",
              "       [-1.22662330e+00],\n",
              "       [-3.79887193e-01],\n",
              "       [-1.21451080e-01],\n",
              "       [-1.09336936e+00],\n",
              "       [ 1.19723594e+00],\n",
              "       [-1.22362554e+00],\n",
              "       [ 1.48985994e+00],\n",
              "       [ 1.80893242e-02],\n",
              "       [-4.49816257e-01],\n",
              "       [ 4.74493802e-02],\n",
              "       [-1.02606624e-01],\n",
              "       [-4.83978242e-01],\n",
              "       [ 8.44614744e-01],\n",
              "       [ 6.01999402e-01],\n",
              "       [-1.00757277e+00],\n",
              "       [ 7.95066357e-02],\n",
              "       [ 1.53524721e+00],\n",
              "       [ 1.36019599e+00],\n",
              "       [ 1.27587378e+00],\n",
              "       [-1.37557828e+00],\n",
              "       [ 9.73458588e-02],\n",
              "       [-5.31099558e-01],\n",
              "       [-4.30867374e-02],\n",
              "       [ 2.25192100e-01],\n",
              "       [ 5.47071099e-01],\n",
              "       [ 9.20228720e-01],\n",
              "       [ 6.83211327e-01],\n",
              "       [ 9.89247203e-01],\n",
              "       [-1.87705755e-02],\n",
              "       [ 5.47080100e-01],\n",
              "       [ 5.72858989e-01],\n",
              "       [-8.18454027e-02],\n",
              "       [ 4.94629741e-02],\n",
              "       [-6.45825863e-01],\n",
              "       [ 4.53447461e-01],\n",
              "       [-1.02952945e+00],\n",
              "       [ 2.85765707e-01],\n",
              "       [-1.28303754e+00],\n",
              "       [ 1.87395489e+00],\n",
              "       [ 8.64176512e-01],\n",
              "       [ 1.70142710e+00],\n",
              "       [-1.39977503e+00],\n",
              "       [ 1.13592517e+00],\n",
              "       [ 8.18381906e-01],\n",
              "       [ 1.67838335e-02],\n",
              "       [ 9.90436673e-01],\n",
              "       [ 5.14605284e-01],\n",
              "       [-8.33065391e-01],\n",
              "       [ 2.54952163e-02],\n",
              "       [ 5.15507162e-01],\n",
              "       [ 6.23361021e-02],\n",
              "       [ 1.77380240e+00],\n",
              "       [ 3.74792546e-01],\n",
              "       [ 4.43947971e-01],\n",
              "       [ 2.95788437e-01],\n",
              "       [-8.76506269e-02],\n",
              "       [-1.22229040e-01],\n",
              "       [-2.05096155e-01],\n",
              "       [ 7.01157331e-01],\n",
              "       [ 1.96870947e+00],\n",
              "       [-2.12942064e-03],\n",
              "       [-1.23162544e+00],\n",
              "       [-7.33966351e-01],\n",
              "       [-3.05108517e-01],\n",
              "       [ 2.37025142e-01],\n",
              "       [ 1.01509118e+00],\n",
              "       [ 5.51574379e-02],\n",
              "       [ 1.77730036e+00],\n",
              "       [ 7.91962743e-01],\n",
              "       [-6.19495660e-02],\n",
              "       [-1.03837049e+00],\n",
              "       [-6.71633959e-01],\n",
              "       [-1.29205060e+00],\n",
              "       [-5.95216155e-01],\n",
              "       [-8.83259058e-01],\n",
              "       [-1.16011059e+00],\n",
              "       [-1.31196368e+00],\n",
              "       [ 3.74670327e-02],\n",
              "       [-2.26097435e-01],\n",
              "       [-1.21384192e+00],\n",
              "       [ 4.17893529e-01],\n",
              "       [ 2.15053856e-02],\n",
              "       [ 2.14448601e-01],\n",
              "       [ 7.80087590e-01],\n",
              "       [ 2.17151213e+00],\n",
              "       [ 1.20049620e+00],\n",
              "       [ 5.56942225e-02],\n",
              "       [-7.69535303e-01],\n",
              "       [-8.62583756e-01],\n",
              "       [-1.06556857e+00],\n",
              "       [ 7.01275945e-01],\n",
              "       [-1.26478088e+00],\n",
              "       [ 2.06327748e+00],\n",
              "       [-1.28404737e+00],\n",
              "       [-1.24279153e+00],\n",
              "       [-5.63390255e-01],\n",
              "       [-4.07005101e-01],\n",
              "       [-7.32454419e-01],\n",
              "       [ 4.48491752e-01],\n",
              "       [ 9.43808198e-01],\n",
              "       [-2.29965597e-01],\n",
              "       [-5.59143126e-02],\n",
              "       [ 1.11739844e-01],\n",
              "       [-1.72847021e+00],\n",
              "       [ 1.24488282e+00],\n",
              "       [ 2.79199779e-01],\n",
              "       [ 5.14202595e-01],\n",
              "       [ 1.07194424e-01],\n",
              "       [ 1.54643464e+00],\n",
              "       [ 4.50904280e-01],\n",
              "       [ 8.03995371e-01],\n",
              "       [-9.08538103e-01],\n",
              "       [ 9.19842839e-01],\n",
              "       [ 4.63190585e-01],\n",
              "       [ 1.73449123e+00],\n",
              "       [ 5.80795407e-01],\n",
              "       [ 2.62274647e+00],\n",
              "       [ 5.64491630e-01],\n",
              "       [-4.75732774e-01],\n",
              "       [-4.80836958e-01],\n",
              "       [-4.92341250e-01],\n",
              "       [ 1.13430059e+00],\n",
              "       [ 9.86144304e-01],\n",
              "       [ 1.28892624e+00],\n",
              "       [-9.84474063e-01],\n",
              "       [ 7.70065904e-01],\n",
              "       [ 3.30034196e-01],\n",
              "       [-8.19104433e-01],\n",
              "       [ 1.14357066e+00],\n",
              "       [ 9.65392351e-01],\n",
              "       [ 1.92995936e-01],\n",
              "       [-1.52089268e-01],\n",
              "       [ 4.10498083e-02],\n",
              "       [-1.00198925e+00],\n",
              "       [-5.76432586e-01],\n",
              "       [-1.18900061e+00],\n",
              "       [ 9.20965314e-01],\n",
              "       [-8.31552148e-01],\n",
              "       [ 1.48574471e+00],\n",
              "       [ 1.06763721e+00],\n",
              "       [ 7.95269728e-01],\n",
              "       [ 4.35936719e-01],\n",
              "       [ 5.10632157e-01],\n",
              "       [ 2.29396009e+00],\n",
              "       [-3.78591985e-01],\n",
              "       [ 1.25758588e+00],\n",
              "       [ 4.72752064e-01],\n",
              "       [-2.62248039e-01],\n",
              "       [ 3.93850267e-01],\n",
              "       [-1.27859592e-01],\n",
              "       [-1.78610647e+00],\n",
              "       [-7.80197382e-01],\n",
              "       [-9.59567785e-01],\n",
              "       [-1.26592368e-02],\n",
              "       [ 1.53746092e+00],\n",
              "       [-5.83740234e-01],\n",
              "       [ 1.10190833e+00],\n",
              "       [ 3.45522642e-01],\n",
              "       [-1.10628450e+00],\n",
              "       [ 7.39591479e-01],\n",
              "       [-1.00065678e-01],\n",
              "       [-1.05503285e+00],\n",
              "       [-1.78443432e-01],\n",
              "       [ 2.16321051e-02],\n",
              "       [ 4.62361038e-01],\n",
              "       [ 7.69631982e-01],\n",
              "       [-1.35983455e+00],\n",
              "       [ 4.62361038e-01],\n",
              "       [-3.75430882e-02],\n",
              "       [ 6.71540976e-01],\n",
              "       [-7.51313567e-01],\n",
              "       [ 4.01475132e-01],\n",
              "       [-2.28504062e-01],\n",
              "       [ 1.18619418e+00],\n",
              "       [-9.68169093e-01],\n",
              "       [ 3.70747268e-01],\n",
              "       [-1.02430785e+00],\n",
              "       [ 3.81485462e-01],\n",
              "       [-4.98657733e-01],\n",
              "       [ 8.02818060e-01],\n",
              "       [-4.21591371e-01],\n",
              "       [ 6.57863021e-02],\n",
              "       [ 5.41853964e-01],\n",
              "       [-2.22193390e-01],\n",
              "       [ 1.01509118e+00],\n",
              "       [-1.64004982e-01],\n",
              "       [ 5.57984352e-01],\n",
              "       [-1.11341226e+00],\n",
              "       [-1.69434357e+00],\n",
              "       [-1.75009906e+00],\n",
              "       [ 1.12568557e+00],\n",
              "       [-4.81776208e-01],\n",
              "       [-6.90053225e-01],\n",
              "       [-1.25676286e+00],\n",
              "       [-6.54984951e-01],\n",
              "       [ 8.03944394e-02],\n",
              "       [ 6.40563726e-01],\n",
              "       [-2.01819718e-01],\n",
              "       [-5.38046360e-01],\n",
              "       [ 3.13093364e-01],\n",
              "       [ 7.18625069e-01],\n",
              "       [ 9.78581309e-01],\n",
              "       [-1.07040799e+00],\n",
              "       [-6.26573443e-01],\n",
              "       [-1.79370320e+00],\n",
              "       [ 6.63402975e-02],\n",
              "       [ 2.22488657e-01],\n",
              "       [ 9.62794185e-01],\n",
              "       [ 1.66934460e-01],\n",
              "       [-4.12240475e-01],\n",
              "       [ 1.84272563e+00],\n",
              "       [-2.73625404e-01],\n",
              "       [ 2.17151213e+00],\n",
              "       [-1.42587900e+00],\n",
              "       [ 3.99574399e-01],\n",
              "       [-5.25919557e-01],\n",
              "       [ 5.39298594e-01],\n",
              "       [-3.24276060e-01],\n",
              "       [ 1.02047598e+00],\n",
              "       [-1.25208163e+00],\n",
              "       [ 3.72666717e-02],\n",
              "       [ 5.36106467e-01],\n",
              "       [-1.58466995e-02],\n",
              "       [-1.26513350e+00],\n",
              "       [ 5.91652393e-01],\n",
              "       [ 7.42040634e-01],\n",
              "       [-9.52872515e-01],\n",
              "       [-2.03566849e-01],\n",
              "       [-1.29299867e+00],\n",
              "       [-3.28374714e-01],\n",
              "       [-1.29835653e+00],\n",
              "       [-8.39486361e-01],\n",
              "       [ 1.55488625e-01],\n",
              "       [-1.33791852e+00],\n",
              "       [-6.21315837e-01],\n",
              "       [-7.64341354e-01],\n",
              "       [-9.42692280e-01],\n",
              "       [ 1.07194424e-01],\n",
              "       [ 1.08310747e+00],\n",
              "       [-9.60907698e-01],\n",
              "       [-5.84597230e-01],\n",
              "       [ 2.64141440e-01],\n",
              "       [ 1.12887144e+00],\n",
              "       [-4.05297369e-01],\n",
              "       [ 1.01509118e+00],\n",
              "       [-1.20527267e-01],\n",
              "       [-2.76563853e-01],\n",
              "       [-1.40848684e+00],\n",
              "       [ 7.70065904e-01],\n",
              "       [-1.36796713e-01],\n",
              "       [ 2.56228179e-01],\n",
              "       [-6.81062102e-01],\n",
              "       [ 8.32807422e-01],\n",
              "       [ 5.37851334e-01],\n",
              "       [ 2.20968798e-01],\n",
              "       [-3.59063596e-01],\n",
              "       [-2.09095657e-01],\n",
              "       [-1.18081844e+00],\n",
              "       [ 8.68801355e-01],\n",
              "       [-9.27447915e-01],\n",
              "       [ 4.20326144e-01],\n",
              "       [-6.78916335e-01],\n",
              "       [ 9.18031573e-01],\n",
              "       [ 8.48445773e-01],\n",
              "       [-1.68345273e+00],\n",
              "       [-2.45371312e-01],\n",
              "       [ 1.10946745e-01],\n",
              "       [ 1.26724303e+00],\n",
              "       [ 1.89216599e-01],\n",
              "       [ 5.42298734e-01],\n",
              "       [ 9.74942446e-02],\n",
              "       [ 2.77445287e-01],\n",
              "       [ 9.04024094e-02]], dtype=float32)"
            ]
          },
          "metadata": {
            "tags": []
          },
          "execution_count": 127
        }
      ]
    },
    {
      "cell_type": "code",
      "metadata": {
        "colab": {
          "base_uri": "https://localhost:8080/"
        },
        "id": "_7mkxSzK4zcq",
        "outputId": "2ddb0831-a47e-4a7a-cecd-39a4ba96c22a"
      },
      "source": [
        "y_test"
      ],
      "execution_count": 130,
      "outputs": [
        {
          "output_type": "execute_result",
          "data": {
            "text/plain": [
              "array([-0.8325258 , -0.9510479 ,  0.03723503, -1.4281294 ,  0.24075787,\n",
              "        1.8635532 , -0.8762233 ,  0.9758345 ,  0.19406733, -0.83791316,\n",
              "        0.20424348, -1.2443602 , -0.6415735 , -0.5296359 , -1.525102  ,\n",
              "       -0.5362205 ,  0.15515856,  1.2458016 ,  1.908448  ,  0.07015784,\n",
              "       -0.6481581 ,  0.92435515, -1.1000985 ,  1.387669  ,  1.5552759 ,\n",
              "        0.62445825,  0.2000533 , -0.17945693, -0.12079447, -1.1132675 ,\n",
              "        0.47181615,  0.6501979 , -0.78942686, -0.73615175, -0.14473833,\n",
              "       -0.12558323, -0.9217167 , -0.5368191 , -0.61403805, -0.9031602 ,\n",
              "       -0.14473833, -1.2467546 ,  0.14378522,  0.16832769, -0.03519515,\n",
              "       -0.40871942, -0.24949273, -0.5793194 , -0.43206468,  0.64780354,\n",
              "       -0.7768563 , -0.00346954,  1.5624591 ,  0.91118604,  1.2499917 ,\n",
              "       -1.5227077 ,  0.41794246, -0.8834065 , -0.15730886,  0.5137179 ,\n",
              "        1.0698141 ,  0.47181615,  1.1051314 ,  1.2116815 , -0.6727005 ,\n",
              "       -0.12318885,  1.2044984 ,  0.11924277, -0.71639806, -0.5691433 ,\n",
              "       -0.46199453, -0.654144  , -0.12558323, -1.5610179 ,  2.2251055 ,\n",
              "        2.1718304 ,  1.1422443 , -1.5717926 ,  0.7274169 ,  1.059638  ,\n",
              "        0.06716486,  0.675339  ,  1.2164702 ,  0.26410314,  0.7118534 ,\n",
              "       -0.05494884, -0.12498464,  1.1422443 ,  1.1518219 ,  1.2811188 ,\n",
              "        0.03184766, -0.27762678, -0.5637559 ,  0.24674383, -0.22195728,\n",
              "        2.243662  ,  0.19047576, -1.3987981 , -0.47157207, -0.32132432,\n",
              "       -0.12079447,  1.2164702 , -0.0968506 ,  0.28625122,  1.1242864 ,\n",
              "       -0.19681624, -0.6750949 ,  0.35089964, -1.4149603 , -0.7074191 ,\n",
              "       -0.9654142 ,  0.8040373 , -1.5322852 , -0.40871942,  0.40836492,\n",
              "       -1.3485161 ,  0.28984278, -0.167485  ,  0.38980842,  0.6501979 ,\n",
              "        2.60282   ,  1.8066865 ,  0.21322243, -1.0689714 , -1.209043  ,\n",
              "       -0.28660572,  2.57289   , -1.5131301 ,  1.8485882 , -0.9743932 ,\n",
              "       -1.3539034 , -0.23033763, -1.3383399 ,  0.06836206, -0.02861059,\n",
              "        0.31318805,  0.40836492,  0.22519436,  0.12522873, -1.5245035 ,\n",
              "        0.6825221 ,  0.08093258,  0.2174126 ,  0.20843366,  1.375697  ,\n",
              "        1.2577734 ,  0.26649752, -0.8887939 , -0.14473833,  0.98062325,\n",
              "        1.7408409 ,  0.8471362 ,  2.8003569 ,  0.9985811 , -0.1321678 ,\n",
              "       -0.23991518, -0.57872087,  0.02885468,  1.4355567 ,  2.4196494 ,\n",
              "       -0.47576225,  1.202104  ,  0.67114884, -1.1336199 ,  1.2284422 ,\n",
              "        0.7381916 ,  0.17251787, -0.12737903,  0.19586313, -0.66791177,\n",
              "        0.6005144 , -1.1695356 ,  0.36586455, -0.32192293, -0.12737903,\n",
              "        1.5349237 ,  0.7184379 , -0.45002258,  0.2180112 ,  2.608806  ,\n",
              "       -0.6810809 ,  1.2320338 , -0.3093524 , -0.6415735 , -0.375198  ,\n",
              "       -0.06452639, -1.9453168 , -0.84210336, -0.16868219,  0.6328386 ,\n",
              "        2.29574   , -0.8008002 , -0.6355875 ,  0.5077319 , -1.3928123 ,\n",
              "        0.9099888 ,  0.14318663, -0.4117124 , -0.68706685,  0.29103997,\n",
              "       -0.00406813,  0.42512563, -1.6532017 ,  0.16713049, -0.06811797,\n",
              "        0.23716629, -0.5894956 , -0.64037627, -0.26565483,  1.8012991 ,\n",
              "       -1.3461217 , -0.24530256, -1.041436  ,  0.0611789 , -1.3874248 ,\n",
              "        0.36646315, -0.42727593, -0.03878674,  0.5544225 , -0.8858009 ,\n",
              "        1.1631953 , -0.43984646, -0.13635798, -0.8917869 , -1.2012613 ,\n",
              "       -1.522109  ,  0.5675916 , -0.26745063, -0.87742054, -1.6328495 ,\n",
              "       -1.1797118 ,  0.7459734 ,  0.29582876, -0.07470253, -0.59428436,\n",
              "       -0.38477555,  0.40716773,  1.1344626 , -1.0546051 , -0.7702718 ,\n",
              "       -1.6819344 ,  0.09649609,  0.15815154,  1.1494275 , -0.17825973,\n",
              "        0.20963085,  2.4831007 , -0.1824499 ,  2.60282   , -0.69005984,\n",
              "        1.1111172 , -0.75889844,  0.08691855, -0.63678473,  1.9713006 ,\n",
              "       -1.5640109 ,  0.08452416,  0.8369601 ,  0.0958975 , -1.6328495 ,\n",
              "        1.0823847 ,  0.430513  , -0.6523482 , -0.31414115, -1.109676  ,\n",
              "       -0.68407387, -1.3317554 ,  0.08691855,  0.17670803, -1.1144648 ,\n",
              "       -0.1854429 ,  0.03723503, -1.0647813 ,  0.13181329,  1.9443637 ,\n",
              "       -1.0587953 , -0.38118398,  0.21202524,  0.5675916 , -0.6224184 ,\n",
              "        1.5115784 , -1.0653799 , -1.1042887 , -1.403587  ,  1.202104  ,\n",
              "        0.14258803,  0.50234455, -1.2407687 ,  2.1652458 ,  0.7645299 ,\n",
              "        0.15815154, -0.21417554, -0.71699667, -1.434714  ,  0.76931864,\n",
              "       -0.03519515,  0.464633  , -0.71998966, -0.4081208 ,  0.2736807 ,\n",
              "       -1.6945049 , -0.26745063,  1.6881644 ,  0.1306161 ,  0.08691855,\n",
              "        0.99439096,  0.6932969 ,  0.4951614 ,  0.05878451], dtype=float32)"
            ]
          },
          "metadata": {
            "tags": []
          },
          "execution_count": 130
        }
      ]
    },
    {
      "cell_type": "code",
      "metadata": {
        "colab": {
          "base_uri": "https://localhost:8080/",
          "height": 298
        },
        "id": "4wdL88UI47nb",
        "outputId": "0730156c-088d-4541-eec4-5d156d5c4c3f"
      },
      "source": [
        "plt.figure(figsize=(20,5))\n",
        "plt.subplot(1, 2, 1 )\n",
        "plt.hist(y_test)\n",
        "plt.xlabel('original target value')\n",
        "plt.ylabel('count')\n",
        "plt.subplot(1, 2, 2)\n",
        "plt.hist(pred)\n",
        "plt.xlabel('aggregated target value')\n",
        "plt.show()"
      ],
      "execution_count": 131,
      "outputs": [
        {
          "output_type": "display_data",
          "data": {
            "image/png": "[encoded data removed]",
            "text/plain": [
              "<Figure size 1440x360 with 2 Axes>"
            ]
          },
          "metadata": {
            "tags": [],
            "needs_background": "light"
          }
        }
      ]
    },
    {
      "cell_type": "code",
      "metadata": {
        "id": "Y9Fcxzft5HPv"
      },
      "source": [
        ""
      ],
      "execution_count": null,
      "outputs": []
    }
  ]
}